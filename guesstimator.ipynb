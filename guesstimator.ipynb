{
 "cells": [
  {
   "cell_type": "markdown",
   "metadata": {},
   "source": [
    "#### Importing Libraries"
   ]
  },
  {
   "cell_type": "code",
   "execution_count": 1,
   "metadata": {
    "scrolled": true
   },
   "outputs": [
    {
     "name": "stdout",
     "output_type": "stream",
     "text": [
      "pygame 1.9.6\n",
      "Hello from the pygame community. https://www.pygame.org/contribute.html\n"
     ]
    }
   ],
   "source": [
    "import pygame\n",
    "import tensorflow as tf\n",
    "import numpy as np\n",
    "from tkinter import *\n",
    "from tkinter import messagebox"
   ]
  },
  {
   "cell_type": "markdown",
   "metadata": {},
   "source": [
    "#### Importing digit dataset"
   ]
  },
  {
   "cell_type": "code",
   "execution_count": 2,
   "metadata": {},
   "outputs": [
    {
     "name": "stdout",
     "output_type": "stream",
     "text": [
      "size of each image in pixels :  (28, 28)\n"
     ]
    }
   ],
   "source": [
    "# Importing handwritten-digit dataset\n",
    "mnist = tf.keras.datasets.mnist\n",
    "\n",
    "\n",
    "#The MNIST database contains 60,000 training images and 10,000 testing images\n",
    "(x_train, y_train),(x_test, y_test) = mnist.load_data()\n",
    "x_train = tf.keras.utils.normalize(x_train, axis=1)\n",
    "x_test = tf.keras.utils.normalize(x_test, axis=1)\n",
    "\n",
    "# Each image is of 28x28 pixels\n",
    "print(\"size of each image in pixels : \", x_train[0].shape)"
   ]
  },
  {
   "cell_type": "markdown",
   "metadata": {},
   "source": [
    "#### visualizing random data"
   ]
  },
  {
   "cell_type": "code",
   "execution_count": 3,
   "metadata": {},
   "outputs": [
    {
     "name": "stdout",
     "output_type": "stream",
     "text": [
      "8\n"
     ]
    },
    {
     "data": {
      "image/png": "[encoded data removed]",
      "text/plain": [
       "<Figure size 432x288 with 1 Axes>"
      ]
     },
     "metadata": {
      "needs_background": "light"
     },
     "output_type": "display_data"
    },
    {
     "data": {
      "image/png": "[encoded data removed]",
      "text/plain": [
       "<Figure size 432x288 with 1 Axes>"
      ]
     },
     "metadata": {
      "needs_background": "light"
     },
     "output_type": "display_data"
    }
   ],
   "source": [
    "import matplotlib.pyplot as plt\n",
    "image_index = 7777 # You may select anything up to 60,000\n",
    "print(y_train[image_index]) # The label is 8\n",
    "plt.imshow(x_train[image_index], cmap='Greys')\n",
    "plt.show()\n",
    "plt.imshow(x_train[image_index + image_index], cmap='Greys')\n",
    "plt.show()"
   ]
  },
  {
   "cell_type": "markdown",
   "metadata": {},
   "source": [
    "### Training the model"
   ]
  },
  {
   "cell_type": "code",
   "execution_count": 4,
   "metadata": {},
   "outputs": [
    {
     "name": "stdout",
     "output_type": "stream",
     "text": [
      "going to trained\n",
      "optimizing\n",
      "optimized now will fit\n",
      "Train on 60000 samples\n",
      "Epoch 1/3\n",
      "60000/60000 [==============================] - 12s 206us/sample - loss: 0.2464 - accuracy: 0.9250\n",
      "Epoch 2/3\n",
      "60000/60000 [==============================] - 8s 126us/sample - loss: 0.1174 - accuracy: 0.9631\n",
      "Epoch 3/3\n",
      "60000/60000 [==============================] - 7s 118us/sample - loss: 0.0828 - accuracy: 0.9735\n",
      "done with the model\n"
     ]
    }
   ],
   "source": [
    "# converting into binary data\n",
    "for train in range(len(x_train)):\n",
    "    for row in range(28):\n",
    "        for x in range(28):\n",
    "            if x_train[train][row][x] != 0:\n",
    "                x_train[train][row][x] = 1\n",
    "print(\"going to trained\")\n",
    "\n",
    "model = tf.keras.models.Sequential()\n",
    "model.add(tf.keras.layers.Flatten())\n",
    "model.add(tf.keras.layers.Dense(128, activation=tf.nn.relu))\n",
    "model.add(tf.keras.layers.Dense(128, activation=tf.nn.relu))\n",
    "model.add(tf.keras.layers.Dense(10, activation=tf.nn.softmax))\n",
    "\n",
    "print(\"optimizing\")\n",
    "\n",
    "model.compile(optimizer='adam',\n",
    "              loss='sparse_categorical_crossentropy',\n",
    "              metrics=['accuracy'])\n",
    "print(\"optimized now will fit\")\n",
    "model.fit(x_train, y_train, epochs=3)\n",
    "#model.save('epic_num_reader.model')\n",
    "\n",
    "print(\"done with the model\")"
   ]
  },
  {
   "cell_type": "code",
   "execution_count": 5,
   "metadata": {},
   "outputs": [],
   "source": [
    "class pixel(object):\n",
    "    def __init__(self, x, y, width, height):\n",
    "        self.x = x\n",
    "        self.y = y\n",
    "        self.width = width\n",
    "        self.height = height\n",
    "        self.color = (255,255,255)\n",
    "        self.neighbors = []\n",
    "\n",
    "    def draw(self, surface):\n",
    "        pygame.draw.rect(surface, self.color, (self.x, self.y, self.x + self.width, self.y + self.height))\n",
    "\n",
    "    def getNeighbors(self, g):\n",
    "        # Get the neighbours of each pixel in the grid, this is used for drawing thicker lines\n",
    "        j = self.x // 20 # the var i is responsible for denoting the current col value in the grid\n",
    "        i = self.y // 20 # the var j is responsible for denoting thr current row value in the grid\n",
    "        rows = 28\n",
    "        cols = 28\n",
    "\n",
    "        # Horizontal and vertical neighbors\n",
    "        if i < cols - 1:  # Right\n",
    "            self.neighbors.append(g.pixels[i + 1][j])\n",
    "        if i > 0:  # Left\n",
    "            self.neighbors.append(g.pixels[i - 1][j])\n",
    "        if j < rows - 1:  # Up\n",
    "            self.neighbors.append(g.pixels[i][j + 1])\n",
    "        if j > 0:  # Down\n",
    "            self.neighbors.append(g.pixels[i][j - 1])\n",
    "\n",
    "        # Diagonal neighbors\n",
    "        if j > 0 and i > 0:  # Top Left\n",
    "            self.neighbors.append(g.pixels[i - 1][j - 1])\n",
    "\n",
    "        if j + 1 < rows and i > -1 and i - 1 > 0:  # Bottom Left\n",
    "            self.neighbors.append(g.pixels[i - 1][j + 1])\n",
    "\n",
    "        if j - 1 < rows and i < cols - 1 and j - 1 > 0:  # Top Right\n",
    "            self.neighbors.append(g.pixels[i + 1][j - 1])\n",
    "\n",
    "        if j < rows - 1 and i < cols - 1:  # Bottom Right\n",
    "            self.neighbors.append(g.pixels[i + 1][j + 1])\n"
   ]
  },
  {
   "cell_type": "code",
   "execution_count": 6,
   "metadata": {},
   "outputs": [],
   "source": [
    "class grid(object):\n",
    "    pixels = []\n",
    "\n",
    "    def __init__(self, row, col, width, height):\n",
    "        self.rows = row\n",
    "        self.cols = col\n",
    "        self.len = row * col\n",
    "        self.width = width\n",
    "        self.height = height\n",
    "        self.generatePixels()\n",
    "        pass\n",
    "\n",
    "    def draw(self, surface):\n",
    "        for row in self.pixels:\n",
    "            for col in row:\n",
    "                col.draw(surface)\n",
    "\n",
    "    def generatePixels(self):\n",
    "        print(\"in generatePixels\")\n",
    "        x_gap = self.width // self.cols\n",
    "        y_gap = self.height // self.rows\n",
    "        self.pixels = []\n",
    "        for r in range(self.rows):\n",
    "            self.pixels.append([])\n",
    "            for c in range(self.cols):\n",
    "                self.pixels[r].append(pixel(x_gap * c, y_gap * r, x_gap, y_gap))\n",
    "\n",
    "        for r in range(self.rows):\n",
    "            for c in range(self.cols):\n",
    "                self.pixels[r][c].getNeighbors(self)\n",
    "\n",
    "    def clicked(self, pos): #Return the position in the grid that user clicked on\n",
    "        try:\n",
    "            t = pos[0]\n",
    "            w = pos[1]\n",
    "            g1 = int(t) // self.pixels[0][0].width\n",
    "            g1 = int(t) // self.pixels[0][0].width\n",
    "            g2 = int(w) // self.pixels[0][0].height\n",
    "\n",
    "            return self.pixels[g2][g1]\n",
    "        except:\n",
    "            pass\n",
    "\n",
    "    def convert_binary(self):\n",
    "        print(\"in convert_binary\")\n",
    "        li = self.pixels\n",
    "\n",
    "        newMatrix = [[] for x in range(len(li))]\n",
    "\n",
    "        for i in range(len(li)):\n",
    "            for j in range(len(li[i])):\n",
    "                if li[i][j].color == (255,255,255):\n",
    "                    newMatrix[i].append(0)\n",
    "                else:\n",
    "                    newMatrix[i].append(1)\n",
    "\n",
    "        mnist = tf.keras.datasets.mnist\n",
    "        (x_train, y_train), (x_test, y_test) = mnist.load_data()\n",
    "        x_test = tf.keras.utils.normalize(x_test, axis=1)\n",
    "        for row in range(28):\n",
    "            for x in range(28):\n",
    "                x_test[0][row][x] = newMatrix[row][x]\n",
    "\n",
    "        return x_test[:1]\n"
   ]
  },
  {
   "cell_type": "code",
   "execution_count": 7,
   "metadata": {
    "scrolled": false
   },
   "outputs": [],
   "source": [
    "def guess(li):\n",
    "    print(\"IN guess\")\n",
    "    \n",
    "    predictions = model.predict(li)\n",
    "    print(predictions[0])\n",
    "    t = (np.argmax(predictions[0]))\n",
    "    window = Tk()\n",
    "    window.withdraw()\n",
    "    messagebox.showinfo(\"Guesstimation : \", \"Number drawn is : \" + str(t))\n",
    "    window.destroy()\n",
    "\n"
   ]
  },
  {
   "cell_type": "code",
   "execution_count": 8,
   "metadata": {},
   "outputs": [],
   "source": [
    "\n",
    "def main():\n",
    "    run = True\n",
    "    print(\"In main\")\n",
    "\n",
    "    while run:\n",
    "        for event in pygame.event.get():\n",
    "            if event.type == pygame.QUIT:\n",
    "                print(\"Quit\")\n",
    "                run = False\n",
    "            if event.type == pygame.MOUSEBUTTONUP:\n",
    "                print(\"keydown\")\n",
    "                li = g.convert_binary()\n",
    "                guess(li)\n",
    "                g.generatePixels()\n",
    "            if pygame.mouse.get_pressed()[0]:\n",
    "\n",
    "                pos = pygame.mouse.get_pos()\n",
    "                clicked = g.clicked(pos)\n",
    "                clicked.color = (0,255,0)\n",
    "                for n in clicked.neighbors:\n",
    "                    n.color = (0,255,0)\n",
    "\n",
    "            if pygame.mouse.get_pressed()[2]:\n",
    "                try:\n",
    "                    pos = pygame.mouse.get_pos()\n",
    "                    clicked = g.clicked(pos)\n",
    "                    clicked.color = (255,255,255)\n",
    "                except:\n",
    "                    pass\n",
    "\n",
    "        g.draw(win)\n",
    "        pygame.display.update()"
   ]
  },
  {
   "cell_type": "code",
   "execution_count": 9,
   "metadata": {},
   "outputs": [
    {
     "name": "stdout",
     "output_type": "stream",
     "text": [
      "in generatePixels\n",
      "In main\n",
      "keydown\n",
      "in convert_binary\n",
      "IN guess\n",
      "[2.2456162e-07 3.2235783e-09 6.2709653e-08 1.0393828e-06 5.5432483e-04\n",
      " 1.4773840e-07 1.3013931e-09 3.1832107e-05 1.8115745e-05 9.9939430e-01]\n",
      "in generatePixels\n",
      "keydown\n",
      "in convert_binary\n",
      "IN guess\n",
      "[1.8199001e-09 9.8223074e-10 2.8257789e-09 9.4669085e-06 5.8505989e-06\n",
      " 1.1439976e-06 3.5843321e-11 4.8356897e-06 8.4035819e-06 9.9997032e-01]\n",
      "in generatePixels\n",
      "keydown\n",
      "in convert_binary\n",
      "IN guess\n",
      "[3.4099241e-07 8.3464392e-06 6.7733461e-05 4.4504837e-03 2.6816211e-03\n",
      " 2.9166102e-05 9.8650137e-09 2.8330777e-03 8.1254810e-04 9.8911673e-01]\n",
      "in generatePixels\n",
      "keydown\n",
      "in convert_binary\n",
      "IN guess\n",
      "[1.1640023e-08 3.1728342e-10 6.1776793e-09 1.1092243e-06 6.1511375e-05\n",
      " 6.9071029e-07 3.0856984e-10 1.4270683e-05 9.3168512e-07 9.9992144e-01]\n",
      "in generatePixels\n",
      "keydown\n",
      "in convert_binary\n",
      "IN guess\n",
      "[1.6062180e-02 5.8613841e-07 1.7779482e-03 1.8066703e-04 1.1120588e-04\n",
      " 7.5902462e-05 9.5601836e-06 5.9056273e-03 1.9606658e-04 9.7568023e-01]\n",
      "in generatePixels\n",
      "keydown\n",
      "in convert_binary\n",
      "IN guess\n",
      "[6.1338272e-07 3.2230408e-05 1.1550858e-05 2.6788419e-01 1.7803778e-06\n",
      " 7.1462870e-01 1.2012166e-04 6.7055171e-06 1.7042678e-02 2.7142110e-04]\n",
      "in generatePixels\n",
      "keydown\n",
      "in convert_binary\n",
      "IN guess\n",
      "[2.0367408e-05 4.5271958e-03 6.0686828e-03 5.4960113e-02 1.3867794e-01\n",
      " 4.7086904e-04 4.4415692e-06 2.5793932e-02 1.8548487e-02 7.5092798e-01]\n",
      "in generatePixels\n",
      "keydown\n",
      "in convert_binary\n",
      "IN guess\n",
      "[0.27849242 0.06411996 0.09586517 0.04227369 0.04036678 0.05181532\n",
      " 0.07187065 0.14830142 0.01808852 0.18880604]\n",
      "in generatePixels\n",
      "Quit\n"
     ]
    }
   ],
   "source": [
    "pygame.init()\n",
    "width = height = 560\n",
    "win = pygame.display.set_mode((width, height))\n",
    "pygame.display.set_caption(\"Guesstimator\")\n",
    "g = grid(28, 28, width, height)\n",
    "main()\n",
    "\n",
    "\n",
    "pygame.quit()\n"
   ]
  },
  {
   "cell_type": "code",
   "execution_count": null,
   "metadata": {},
   "outputs": [],
   "source": []
  }
 ],
 "metadata": {
  "kernelspec": {
   "display_name": "Python 3",
   "language": "python",
   "name": "python3"
  },
  "language_info": {
   "codemirror_mode": {
    "name": "ipython",
    "version": 3
   },
   "file_extension": ".py",
   "mimetype": "text/x-python",
   "name": "python",
   "nbconvert_exporter": "python",
   "pygments_lexer": "ipython3",
   "version": "3.6.10"
  }
 },
 "nbformat": 4,
 "nbformat_minor": 2
}
